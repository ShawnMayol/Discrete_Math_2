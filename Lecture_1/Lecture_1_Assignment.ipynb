{
 "cells": [
  {
   "cell_type": "markdown",
   "metadata": {},
   "source": [
    "$\\textbf{Assignment}$\n",
    "Instructions:\n",
    "- Use latex.\n",
    "- Write your latex in jupyter notebook.\n",
    "- Push your answer to your github account.\n",
    "- Deadline is 2 weeks before finals.\n",
    "- Fail to submit 2 weeks before finals is an automatic 5.0 for this assignment.\n",
    "- Each problem is 25 points.\n",
    "\n",
    "1. Recall the definition of a rational number, denoted as $\\mathbb{Q}$. Prove that the Euler's number $e = \\Sigma_{k=0}^\\infty \\frac{1}{k!} \\notin \\mathbb{Q}$. A factorial is defined as $k! = (k)(k-1)(k-2)(k-3)..., \\forall k \\in \\mathbb{Z}^+$, note that $0! = 1$. Furthermore, a sum notation $\\Sigma_{k=0}^\\infty k = 0+ 1 + 2 + 3 +....+...$\n",
    "\n",
    "2. Prove Minkowski's Inequality for sums, $\\forall \\ p>1, (a_k, b_k)>0$:\n",
    "\\begin{gather}\n",
    "\\begin{bmatrix}\n",
    "\\Sigma_{k=1}^n |a_k + b_k|^p\n",
    "\\end{bmatrix}^\\frac{1}{p}\n",
    "\\leq\n",
    "\\begin{bmatrix}\n",
    "\\Sigma_{k=1}^n |a_k|^p\n",
    "\\end{bmatrix}^\\frac{1}{p}\n",
    "+\n",
    "\\begin{bmatrix}\n",
    "\\Sigma_{k=1}^n |b_k|^p\n",
    "\\end{bmatrix}^\\frac{1}{p}\n",
    "\\end{gather}\n",
    "\n",
    "3. Prove the triangle inequality $|x+y| \\leq |x| + |y|, \\forall (x,y) \\in \\mathbb{R}$\n",
    "\n",
    "4. Prove Sedrakayan's Lemma $\\forall u_i, v_i \\in \\mathbb{R}^+$:\n",
    "\\begin{gather}\n",
    "\\frac{(\\Sigma_{i=1}^n u_i)^2}{\\Sigma_{i=1}^n v_i}\n",
    "\\leq\n",
    "\\Sigma_{i=1}^n \\frac{(u_i)^2}{v_i}\n",
    "\\end{gather}"
   ]
  },
  {
   "cell_type": "markdown",
   "metadata": {},
   "source": [
    "1. Consider the functions $f(x) = 2x+1$, $g(x)=2y-1$, $j(x) = |f(x)+g(x)|$, and $h(x) = j(x)^2$, show for the following inequality that:\n",
    "\n",
    "\\begin{gather}\n",
    "\\sqrt{|f(x)|^2} \\geq \\sqrt{h(x)} - \\sqrt{|g(x)|^2}, \\forall (x,y) \\in \\mathbb{Z}^+\n",
    "\\end{gather}\n"
   ]
  },
  {
   "cell_type": "markdown",
   "metadata": {},
   "source": [
    "2. Prove Sedrakayan's Lemma if $u_i, v_i$ are square roots of an even integers:\n",
    "\\begin{gather}\n",
    "\\frac{(\\Sigma_{i=1}^n u_i)^2}{\\Sigma_{i=1}^n v_i}\n",
    "\\leq\n",
    "\\Sigma_{i=1}^n \\frac{(u_i)^2}{v_i}\n",
    "\\end{gather}"
   ]
  }
 ],
 "metadata": {
  "kernelspec": {
   "display_name": "Python 3",
   "language": "python",
   "name": "python3"
  },
  "language_info": {
   "codemirror_mode": {
    "name": "ipython",
    "version": 3
   },
   "file_extension": ".py",
   "mimetype": "text/x-python",
   "name": "python",
   "nbconvert_exporter": "python",
   "pygments_lexer": "ipython3",
   "version": "3.12.1"
  }
 },
 "nbformat": 4,
 "nbformat_minor": 2
}
